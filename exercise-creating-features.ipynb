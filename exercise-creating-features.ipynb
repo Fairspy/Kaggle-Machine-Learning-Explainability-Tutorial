{
 "cells": [
  {
   "cell_type": "markdown",
   "id": "509945df",
   "metadata": {
    "papermill": {
     "duration": 0.007649,
     "end_time": "2022-06-28T17:09:48.395767",
     "exception": false,
     "start_time": "2022-06-28T17:09:48.388118",
     "status": "completed"
    },
    "tags": []
   },
   "source": [
    "**This notebook is an exercise in the [Feature Engineering](https://www.kaggle.com/learn/feature-engineering) course.  You can reference the tutorial at [this link](https://www.kaggle.com/ryanholbrook/creating-features).**\n",
    "\n",
    "---\n"
   ]
  },
  {
   "cell_type": "markdown",
   "id": "5344675a",
   "metadata": {
    "papermill": {
     "duration": 0.006154,
     "end_time": "2022-06-28T17:09:48.408395",
     "exception": false,
     "start_time": "2022-06-28T17:09:48.402241",
     "status": "completed"
    },
    "tags": []
   },
   "source": [
    "# Introduction #\n",
    "\n",
    "In this exercise you'll start developing the features you identified in Exercise 2 as having the most potential. As you work through this exercise, you might take a moment to look at the data documentation again and consider whether the features we're creating make sense from a real-world perspective, and whether there are any useful combinations that stand out to you.\n",
    "\n",
    "Run this cell to set everything up!"
   ]
  },
  {
   "cell_type": "code",
   "execution_count": 1,
   "id": "738556e8",
   "metadata": {
    "execution": {
     "iopub.execute_input": "2022-06-28T17:09:48.424457Z",
     "iopub.status.busy": "2022-06-28T17:09:48.423712Z",
     "iopub.status.idle": "2022-06-28T17:09:49.785677Z",
     "shell.execute_reply": "2022-06-28T17:09:49.784335Z"
    },
    "papermill": {
     "duration": 1.373695,
     "end_time": "2022-06-28T17:09:49.788878",
     "exception": false,
     "start_time": "2022-06-28T17:09:48.415183",
     "status": "completed"
    },
    "tags": []
   },
   "outputs": [],
   "source": [
    "# Setup feedback system\n",
    "from learntools.core import binder\n",
    "binder.bind(globals())\n",
    "from learntools.feature_engineering_new.ex3 import *\n",
    "\n",
    "import numpy as np\n",
    "import pandas as pd\n",
    "from sklearn.model_selection import cross_val_score\n",
    "from xgboost import XGBRegressor\n",
    "\n",
    "\n",
    "def score_dataset(X, y, model=XGBRegressor()):\n",
    "    # Label encoding for categoricals\n",
    "    for colname in X.select_dtypes([\"category\", \"object\"]):\n",
    "        X[colname], _ = X[colname].factorize()\n",
    "    # Metric for Housing competition is RMSLE (Root Mean Squared Log Error)\n",
    "    score = cross_val_score(\n",
    "        model, X, y, cv=5, scoring=\"neg_mean_squared_log_error\",\n",
    "    )\n",
    "    score = -1 * score.mean()\n",
    "    score = np.sqrt(score)\n",
    "    return score\n",
    "\n",
    "\n",
    "# Prepare data\n",
    "df = pd.read_csv(\"../input/fe-course-data/ames.csv\")\n",
    "X = df.copy()\n",
    "y = X.pop(\"SalePrice\")"
   ]
  },
  {
   "cell_type": "markdown",
   "id": "310580e1",
   "metadata": {
    "papermill": {
     "duration": 0.00598,
     "end_time": "2022-06-28T17:09:49.801393",
     "exception": false,
     "start_time": "2022-06-28T17:09:49.795413",
     "status": "completed"
    },
    "tags": []
   },
   "source": [
    "-------------------------------------------------------------------------------\n",
    "\n",
    "Let's start with a few mathematical combinations. We'll focus on features describing areas -- having the same units (square-feet) makes it easy to combine them in sensible ways. Since we're using XGBoost (a tree-based model), we'll focus on ratios and sums.\n",
    "\n",
    "# 1) Create Mathematical Transforms\n",
    "\n",
    "Create the following features:\n",
    "\n",
    "- `LivLotRatio`: the ratio of `GrLivArea` to `LotArea`\n",
    "- `Spaciousness`: the sum of `FirstFlrSF` and `SecondFlrSF` divided by `TotRmsAbvGrd`\n",
    "- `TotalOutsideSF`: the sum of `WoodDeckSF`, `OpenPorchSF`, `EnclosedPorch`, `Threeseasonporch`, and `ScreenPorch`"
   ]
  },
  {
   "cell_type": "code",
   "execution_count": 2,
   "id": "bfa150ac",
   "metadata": {
    "execution": {
     "iopub.execute_input": "2022-06-28T17:09:49.815431Z",
     "iopub.status.busy": "2022-06-28T17:09:49.814964Z",
     "iopub.status.idle": "2022-06-28T17:09:49.845968Z",
     "shell.execute_reply": "2022-06-28T17:09:49.844606Z"
    },
    "lines_to_next_cell": 0,
    "papermill": {
     "duration": 0.041122,
     "end_time": "2022-06-28T17:09:49.848488",
     "exception": false,
     "start_time": "2022-06-28T17:09:49.807366",
     "status": "completed"
    },
    "tags": []
   },
   "outputs": [
    {
     "data": {
      "application/javascript": [
       "parent.postMessage({\"jupyterEvent\": \"custom.exercise_interaction\", \"data\": {\"outcomeType\": 1, \"valueTowardsCompletion\": 0.2, \"interactionType\": 1, \"questionType\": 2, \"questionId\": \"1_Q1\", \"learnToolsVersion\": \"0.3.4\", \"failureMessage\": \"\", \"exceptionClass\": \"\", \"trace\": \"\"}}, \"*\")"
      ],
      "text/plain": [
       "<IPython.core.display.Javascript object>"
      ]
     },
     "metadata": {},
     "output_type": "display_data"
    },
    {
     "data": {
      "text/markdown": [
       "<span style=\"color:#33cc33\">Correct</span>"
      ],
      "text/plain": [
       "Correct"
      ]
     },
     "metadata": {},
     "output_type": "display_data"
    }
   ],
   "source": [
    "# YOUR CODE HERE\n",
    "X_1 = pd.DataFrame()  # dataframe to hold new features\n",
    "\n",
    "X_1[\"LivLotRatio\"] = df.GrLivArea/df.LotArea\n",
    "X_1[\"Spaciousness\"] = (df.FirstFlrSF + df.SecondFlrSF)/df.TotRmsAbvGrd\n",
    "X_1[\"TotalOutsideSF\"] = df.WoodDeckSF + df.OpenPorchSF + df.EnclosedPorch + df.Threeseasonporch +df.ScreenPorch\n",
    "\n",
    "\n",
    "# Check your answer\n",
    "q_1.check()"
   ]
  },
  {
   "cell_type": "code",
   "execution_count": 3,
   "id": "e277365e",
   "metadata": {
    "execution": {
     "iopub.execute_input": "2022-06-28T17:09:49.864130Z",
     "iopub.status.busy": "2022-06-28T17:09:49.863114Z",
     "iopub.status.idle": "2022-06-28T17:09:49.868572Z",
     "shell.execute_reply": "2022-06-28T17:09:49.867307Z"
    },
    "lines_to_next_cell": 0,
    "papermill": {
     "duration": 0.015401,
     "end_time": "2022-06-28T17:09:49.870714",
     "exception": false,
     "start_time": "2022-06-28T17:09:49.855313",
     "status": "completed"
    },
    "tags": []
   },
   "outputs": [],
   "source": [
    "# Lines below will give you a hint or solution code\n",
    "#q_1.hint()\n",
    "#q_1.solution()"
   ]
  },
  {
   "cell_type": "markdown",
   "id": "9f996346",
   "metadata": {
    "papermill": {
     "duration": 0.006185,
     "end_time": "2022-06-28T17:09:49.883536",
     "exception": false,
     "start_time": "2022-06-28T17:09:49.877351",
     "status": "completed"
    },
    "tags": []
   },
   "source": [
    "pd.get_dummies(df.Categorical, prefix=\"Cat\")-------------------------------------------------------------------------------\n",
    "\n",
    "If you've discovered an interaction effect between a numeric feature and a categorical feature, you might want to model it explicitly using a one-hot encoding, like so:\n",
    "\n",
    "```\n",
    "# One-hot encode Categorical feature, adding a column prefix \"Cat\"\n",
    "X_new = pd.get_dummies(df.Categorical, prefix=\"Cat\")\n",
    "\n",
    "# Multiply row-by-row\n",
    "X_new = X_new.mul(df.Continuous, axis=0)\n",
    "\n",
    "# Join the new features to the feature set\n",
    "X = X.join(X_new)\n",
    "```\n",
    "\n",
    "# 2) Interaction with a Categorical\n",
    "\n",
    "We discovered an interaction between `BldgType` and `GrLivArea` in Exercise 2. Now create their interaction features."
   ]
  },
  {
   "cell_type": "code",
   "execution_count": 4,
   "id": "40bc90e8",
   "metadata": {
    "execution": {
     "iopub.execute_input": "2022-06-28T17:09:49.898610Z",
     "iopub.status.busy": "2022-06-28T17:09:49.897909Z",
     "iopub.status.idle": "2022-06-28T17:09:49.912806Z",
     "shell.execute_reply": "2022-06-28T17:09:49.911943Z"
    },
    "lines_to_next_cell": 0,
    "papermill": {
     "duration": 0.025175,
     "end_time": "2022-06-28T17:09:49.915068",
     "exception": false,
     "start_time": "2022-06-28T17:09:49.889893",
     "status": "completed"
    },
    "tags": []
   },
   "outputs": [
    {
     "data": {
      "application/javascript": [
       "parent.postMessage({\"jupyterEvent\": \"custom.exercise_interaction\", \"data\": {\"outcomeType\": 1, \"valueTowardsCompletion\": 0.2, \"interactionType\": 1, \"questionType\": 2, \"questionId\": \"2_Q2\", \"learnToolsVersion\": \"0.3.4\", \"failureMessage\": \"\", \"exceptionClass\": \"\", \"trace\": \"\"}}, \"*\")"
      ],
      "text/plain": [
       "<IPython.core.display.Javascript object>"
      ]
     },
     "metadata": {},
     "output_type": "display_data"
    },
    {
     "data": {
      "text/markdown": [
       "<span style=\"color:#33cc33\">Correct</span>"
      ],
      "text/plain": [
       "Correct"
      ]
     },
     "metadata": {},
     "output_type": "display_data"
    }
   ],
   "source": [
    "# YOUR CODE HERE\n",
    "# One-hot encode BldgType. Use `prefix=\"Bldg\"` in `get_dummies`\n",
    "X_2 = pd.get_dummies(df.BldgType, prefix=\"Bldg\") \n",
    "# Multiply\n",
    "X_2 = X_2.mul(df.GrLivArea, axis=0)\n",
    "\n",
    "\n",
    "# Check your answer\n",
    "q_2.check()"
   ]
  },
  {
   "cell_type": "code",
   "execution_count": 5,
   "id": "1243fa9b",
   "metadata": {
    "execution": {
     "iopub.execute_input": "2022-06-28T17:09:49.930520Z",
     "iopub.status.busy": "2022-06-28T17:09:49.930115Z",
     "iopub.status.idle": "2022-06-28T17:09:49.934324Z",
     "shell.execute_reply": "2022-06-28T17:09:49.933410Z"
    },
    "lines_to_next_cell": 0,
    "papermill": {
     "duration": 0.014344,
     "end_time": "2022-06-28T17:09:49.936436",
     "exception": false,
     "start_time": "2022-06-28T17:09:49.922092",
     "status": "completed"
    },
    "tags": []
   },
   "outputs": [],
   "source": [
    "# Lines below will give you a hint or solution code\n",
    "#q_2.hint()\n",
    "#q_2.solution()"
   ]
  },
  {
   "cell_type": "markdown",
   "id": "ef3c008c",
   "metadata": {
    "lines_to_next_cell": 0,
    "papermill": {
     "duration": 0.006449,
     "end_time": "2022-06-28T17:09:49.949731",
     "exception": false,
     "start_time": "2022-06-28T17:09:49.943282",
     "status": "completed"
    },
    "tags": []
   },
   "source": [
    "# 3) Count Feature\n",
    "\n",
    "Let's try creating a feature that describes how many kinds of outdoor areas a dwelling has. Create a feature `PorchTypes` that counts how many of the following are greater than 0.0:\n",
    "\n",
    "```\n",
    "WoodDeckSF\n",
    "OpenPorchSF\n",
    "EnclosedPorch\n",
    "Threeseasonporch\n",
    "ScreenPorch\n",
    "```"
   ]
  },
  {
   "cell_type": "code",
   "execution_count": 6,
   "id": "4b92d5c8",
   "metadata": {
    "execution": {
     "iopub.execute_input": "2022-06-28T17:09:49.965923Z",
     "iopub.status.busy": "2022-06-28T17:09:49.964798Z",
     "iopub.status.idle": "2022-06-28T17:09:49.983490Z",
     "shell.execute_reply": "2022-06-28T17:09:49.982549Z"
    },
    "lines_to_next_cell": 0,
    "papermill": {
     "duration": 0.029199,
     "end_time": "2022-06-28T17:09:49.985649",
     "exception": false,
     "start_time": "2022-06-28T17:09:49.956450",
     "status": "completed"
    },
    "tags": []
   },
   "outputs": [
    {
     "data": {
      "application/javascript": [
       "parent.postMessage({\"jupyterEvent\": \"custom.exercise_interaction\", \"data\": {\"outcomeType\": 1, \"valueTowardsCompletion\": 0.2, \"interactionType\": 1, \"questionType\": 2, \"questionId\": \"3_Q3\", \"learnToolsVersion\": \"0.3.4\", \"failureMessage\": \"\", \"exceptionClass\": \"\", \"trace\": \"\"}}, \"*\")"
      ],
      "text/plain": [
       "<IPython.core.display.Javascript object>"
      ]
     },
     "metadata": {},
     "output_type": "display_data"
    },
    {
     "data": {
      "text/markdown": [
       "<span style=\"color:#33cc33\">Correct</span>"
      ],
      "text/plain": [
       "Correct"
      ]
     },
     "metadata": {},
     "output_type": "display_data"
    }
   ],
   "source": [
    "X_3 = pd.DataFrame()\n",
    "\n",
    "# YOUR CODE HERE\n",
    "X_3[\"PorchTypes\"] =  df[[\n",
    "    \"WoodDeckSF\",\n",
    "    \"OpenPorchSF\",\n",
    "    \"EnclosedPorch\",\n",
    "    \"Threeseasonporch\",\n",
    "    \"ScreenPorch\",\n",
    "]].gt(0.0).sum(axis=1)\n",
    "\n",
    "\n",
    "# Check your answer\n",
    "q_3.check()"
   ]
  },
  {
   "cell_type": "code",
   "execution_count": 7,
   "id": "1dd9f8ea",
   "metadata": {
    "execution": {
     "iopub.execute_input": "2022-06-28T17:09:50.002247Z",
     "iopub.status.busy": "2022-06-28T17:09:50.001824Z",
     "iopub.status.idle": "2022-06-28T17:09:50.006556Z",
     "shell.execute_reply": "2022-06-28T17:09:50.005212Z"
    },
    "lines_to_next_cell": 0,
    "papermill": {
     "duration": 0.015659,
     "end_time": "2022-06-28T17:09:50.008687",
     "exception": false,
     "start_time": "2022-06-28T17:09:49.993028",
     "status": "completed"
    },
    "tags": []
   },
   "outputs": [],
   "source": [
    "# Lines below will give you a hint or solution code\n",
    "#q_3.hint()\n",
    "#q_3.solution()"
   ]
  },
  {
   "cell_type": "markdown",
   "id": "277d4d27",
   "metadata": {
    "papermill": {
     "duration": 0.006705,
     "end_time": "2022-06-28T17:09:50.022586",
     "exception": false,
     "start_time": "2022-06-28T17:09:50.015881",
     "status": "completed"
    },
    "tags": []
   },
   "source": [
    "# 4) Break Down a Categorical Feature\n",
    "\n",
    "`MSSubClass` describes the type of a dwelling:"
   ]
  },
  {
   "cell_type": "code",
   "execution_count": 8,
   "id": "fd78007b",
   "metadata": {
    "execution": {
     "iopub.execute_input": "2022-06-28T17:09:50.039223Z",
     "iopub.status.busy": "2022-06-28T17:09:50.038440Z",
     "iopub.status.idle": "2022-06-28T17:09:50.046346Z",
     "shell.execute_reply": "2022-06-28T17:09:50.045077Z"
    },
    "papermill": {
     "duration": 0.018828,
     "end_time": "2022-06-28T17:09:50.048516",
     "exception": false,
     "start_time": "2022-06-28T17:09:50.029688",
     "status": "completed"
    },
    "tags": []
   },
   "outputs": [
    {
     "data": {
      "text/plain": [
       "array(['One_Story_1946_and_Newer_All_Styles', 'Two_Story_1946_and_Newer',\n",
       "       'One_Story_PUD_1946_and_Newer',\n",
       "       'One_and_Half_Story_Finished_All_Ages', 'Split_Foyer',\n",
       "       'Two_Story_PUD_1946_and_Newer', 'Split_or_Multilevel',\n",
       "       'One_Story_1945_and_Older', 'Duplex_All_Styles_and_Ages',\n",
       "       'Two_Family_conversion_All_Styles_and_Ages',\n",
       "       'One_and_Half_Story_Unfinished_All_Ages',\n",
       "       'Two_Story_1945_and_Older', 'Two_and_Half_Story_All_Ages',\n",
       "       'One_Story_with_Finished_Attic_All_Ages',\n",
       "       'PUD_Multilevel_Split_Level_Foyer',\n",
       "       'One_and_Half_Story_PUD_All_Ages'], dtype=object)"
      ]
     },
     "execution_count": 8,
     "metadata": {},
     "output_type": "execute_result"
    }
   ],
   "source": [
    "df.MSSubClass.unique()"
   ]
  },
  {
   "cell_type": "markdown",
   "id": "93b09888",
   "metadata": {
    "papermill": {
     "duration": 0.006894,
     "end_time": "2022-06-28T17:09:50.062722",
     "exception": false,
     "start_time": "2022-06-28T17:09:50.055828",
     "status": "completed"
    },
    "tags": []
   },
   "source": [
    "You can see that there is a more general categorization described (roughly) by the first word of each category. Create a feature containing only these first words by splitting `MSSubClass` at the first underscore `_`. (Hint: In the `split` method use an argument `n=1`.)"
   ]
  },
  {
   "cell_type": "code",
   "execution_count": 9,
   "id": "5b193569",
   "metadata": {
    "execution": {
     "iopub.execute_input": "2022-06-28T17:09:50.079827Z",
     "iopub.status.busy": "2022-06-28T17:09:50.079159Z",
     "iopub.status.idle": "2022-06-28T17:09:50.106348Z",
     "shell.execute_reply": "2022-06-28T17:09:50.105128Z"
    },
    "lines_to_next_cell": 0,
    "papermill": {
     "duration": 0.038533,
     "end_time": "2022-06-28T17:09:50.108739",
     "exception": false,
     "start_time": "2022-06-28T17:09:50.070206",
     "status": "completed"
    },
    "tags": []
   },
   "outputs": [
    {
     "data": {
      "application/javascript": [
       "parent.postMessage({\"jupyterEvent\": \"custom.exercise_interaction\", \"data\": {\"outcomeType\": 1, \"valueTowardsCompletion\": 0.2, \"interactionType\": 1, \"questionType\": 2, \"questionId\": \"4_Q4\", \"learnToolsVersion\": \"0.3.4\", \"failureMessage\": \"\", \"exceptionClass\": \"\", \"trace\": \"\"}}, \"*\")"
      ],
      "text/plain": [
       "<IPython.core.display.Javascript object>"
      ]
     },
     "metadata": {},
     "output_type": "display_data"
    },
    {
     "data": {
      "text/markdown": [
       "<span style=\"color:#33cc33\">Correct</span>"
      ],
      "text/plain": [
       "Correct"
      ]
     },
     "metadata": {},
     "output_type": "display_data"
    }
   ],
   "source": [
    "X_4 = pd.DataFrame()\n",
    "\n",
    "# YOUR CODE HERE\n",
    "X_4['MSClass'] = df['MSSubClass'].str.split(\"_\", n = 1, expand = True)[0]\n",
    "\n",
    "# Check your answer\n",
    "q_4.check()"
   ]
  },
  {
   "cell_type": "code",
   "execution_count": 10,
   "id": "64c4d1a6",
   "metadata": {
    "execution": {
     "iopub.execute_input": "2022-06-28T17:09:50.127262Z",
     "iopub.status.busy": "2022-06-28T17:09:50.126168Z",
     "iopub.status.idle": "2022-06-28T17:09:50.130917Z",
     "shell.execute_reply": "2022-06-28T17:09:50.130075Z"
    },
    "lines_to_next_cell": 0,
    "papermill": {
     "duration": 0.01589,
     "end_time": "2022-06-28T17:09:50.133160",
     "exception": false,
     "start_time": "2022-06-28T17:09:50.117270",
     "status": "completed"
    },
    "tags": []
   },
   "outputs": [],
   "source": [
    "# Lines below will give you a hint or solution code\n",
    "#q_4.hint()\n",
    "#q_4.solution()"
   ]
  },
  {
   "cell_type": "markdown",
   "id": "a8346198",
   "metadata": {
    "papermill": {
     "duration": 0.007234,
     "end_time": "2022-06-28T17:09:50.148185",
     "exception": false,
     "start_time": "2022-06-28T17:09:50.140951",
     "status": "completed"
    },
    "tags": []
   },
   "source": [
    "# 5) Use a Grouped Transform\n",
    "\n",
    "The value of a home often depends on how it compares to typical homes in its neighborhood. Create a feature `MedNhbdArea` that describes the *median* of `GrLivArea` grouped on `Neighborhood`."
   ]
  },
  {
   "cell_type": "code",
   "execution_count": 11,
   "id": "a9a67fd0",
   "metadata": {
    "execution": {
     "iopub.execute_input": "2022-06-28T17:09:50.165504Z",
     "iopub.status.busy": "2022-06-28T17:09:50.165075Z",
     "iopub.status.idle": "2022-06-28T17:09:50.184336Z",
     "shell.execute_reply": "2022-06-28T17:09:50.183415Z"
    },
    "lines_to_next_cell": 0,
    "papermill": {
     "duration": 0.030589,
     "end_time": "2022-06-28T17:09:50.186499",
     "exception": false,
     "start_time": "2022-06-28T17:09:50.155910",
     "status": "completed"
    },
    "tags": []
   },
   "outputs": [
    {
     "data": {
      "application/javascript": [
       "parent.postMessage({\"jupyterEvent\": \"custom.exercise_interaction\", \"data\": {\"outcomeType\": 1, \"valueTowardsCompletion\": 0.2, \"interactionType\": 1, \"questionType\": 2, \"questionId\": \"5_Q5\", \"learnToolsVersion\": \"0.3.4\", \"failureMessage\": \"\", \"exceptionClass\": \"\", \"trace\": \"\"}}, \"*\")"
      ],
      "text/plain": [
       "<IPython.core.display.Javascript object>"
      ]
     },
     "metadata": {},
     "output_type": "display_data"
    },
    {
     "data": {
      "text/markdown": [
       "<span style=\"color:#33cc33\">Correct</span>"
      ],
      "text/plain": [
       "Correct"
      ]
     },
     "metadata": {},
     "output_type": "display_data"
    }
   ],
   "source": [
    "X_5 = pd.DataFrame()\n",
    "\n",
    "# YOUR CODE HERE\n",
    "X_5[\"MedNhbdArea\"] = df.groupby('Neighborhood')['GrLivArea'].transform('median')\n",
    "\n",
    "# Check your answer\n",
    "q_5.check()"
   ]
  },
  {
   "cell_type": "code",
   "execution_count": 12,
   "id": "52e081c4",
   "metadata": {
    "execution": {
     "iopub.execute_input": "2022-06-28T17:09:50.204162Z",
     "iopub.status.busy": "2022-06-28T17:09:50.203695Z",
     "iopub.status.idle": "2022-06-28T17:09:50.208783Z",
     "shell.execute_reply": "2022-06-28T17:09:50.207589Z"
    },
    "lines_to_next_cell": 0,
    "papermill": {
     "duration": 0.016638,
     "end_time": "2022-06-28T17:09:50.211145",
     "exception": false,
     "start_time": "2022-06-28T17:09:50.194507",
     "status": "completed"
    },
    "tags": []
   },
   "outputs": [],
   "source": [
    "# Lines below will give you a hint or solution code\n",
    "#q_5.hint()\n",
    "#q_5.solution()"
   ]
  },
  {
   "cell_type": "markdown",
   "id": "74e055e7",
   "metadata": {
    "papermill": {
     "duration": 0.007659,
     "end_time": "2022-06-28T17:09:50.226905",
     "exception": false,
     "start_time": "2022-06-28T17:09:50.219246",
     "status": "completed"
    },
    "tags": []
   },
   "source": [
    "Now you've made your first new feature set! If you like, you can run the cell below to score the model with all of your new features added:"
   ]
  },
  {
   "cell_type": "code",
   "execution_count": 13,
   "id": "4acaabcb",
   "metadata": {
    "execution": {
     "iopub.execute_input": "2022-06-28T17:09:50.246392Z",
     "iopub.status.busy": "2022-06-28T17:09:50.245957Z",
     "iopub.status.idle": "2022-06-28T17:09:55.380163Z",
     "shell.execute_reply": "2022-06-28T17:09:55.378429Z"
    },
    "papermill": {
     "duration": 5.146806,
     "end_time": "2022-06-28T17:09:55.382795",
     "exception": false,
     "start_time": "2022-06-28T17:09:50.235989",
     "status": "completed"
    },
    "tags": []
   },
   "outputs": [
    {
     "data": {
      "text/plain": [
       "0.13847331710099203"
      ]
     },
     "execution_count": 13,
     "metadata": {},
     "output_type": "execute_result"
    }
   ],
   "source": [
    "X_new = X.join([X_1, X_2, X_3, X_4, X_5])\n",
    "score_dataset(X_new, y)"
   ]
  },
  {
   "cell_type": "markdown",
   "id": "8516c0f9",
   "metadata": {
    "papermill": {
     "duration": 0.007869,
     "end_time": "2022-06-28T17:09:55.398731",
     "exception": false,
     "start_time": "2022-06-28T17:09:55.390862",
     "status": "completed"
    },
    "tags": []
   },
   "source": [
    "# Keep Going #\n",
    "\n",
    "[**Untangle spatial relationships**](https://www.kaggle.com/ryanholbrook/clustering-with-k-means) by adding cluster labels to your dataset."
   ]
  },
  {
   "cell_type": "markdown",
   "id": "041381a3",
   "metadata": {
    "papermill": {
     "duration": 0.00786,
     "end_time": "2022-06-28T17:09:55.414750",
     "exception": false,
     "start_time": "2022-06-28T17:09:55.406890",
     "status": "completed"
    },
    "tags": []
   },
   "source": [
    "---\n",
    "\n",
    "\n",
    "\n",
    "\n",
    "*Have questions or comments? Visit the [course discussion forum](https://www.kaggle.com/learn/feature-engineering/discussion) to chat with other learners.*"
   ]
  }
 ],
 "metadata": {
  "kernelspec": {
   "display_name": "Python 3",
   "language": "python",
   "name": "python3"
  },
  "language_info": {
   "codemirror_mode": {
    "name": "ipython",
    "version": 3
   },
   "file_extension": ".py",
   "mimetype": "text/x-python",
   "name": "python",
   "nbconvert_exporter": "python",
   "pygments_lexer": "ipython3",
   "version": "3.7.12"
  },
  "papermill": {
   "default_parameters": {},
   "duration": 17.694505,
   "end_time": "2022-06-28T17:09:56.145294",
   "environment_variables": {},
   "exception": null,
   "input_path": "__notebook__.ipynb",
   "output_path": "__notebook__.ipynb",
   "parameters": {},
   "start_time": "2022-06-28T17:09:38.450789",
   "version": "2.3.4"
  }
 },
 "nbformat": 4,
 "nbformat_minor": 5
}
